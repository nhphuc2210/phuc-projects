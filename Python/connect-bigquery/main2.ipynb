{
 "cells": [
  {
   "cell_type": "code",
   "execution_count": 20,
   "id": "88adc4a2",
   "metadata": {},
   "outputs": [],
   "source": [
    "import os\n",
    "os.environ['GOOGLE_APPLICATION_CREDENTIALS'] = 'C:/a/big-query--cd85abb654f9.json' \n",
    "\n",
    "import dotenv\n",
    "import pandas as pd\n",
    "from google.cloud import bigquery\n",
    "import google.auth\n",
    "import pandas_gbq as pdgbq\n",
    "from google.oauth2 import service_account\n",
    "\n",
    "credentials = service_account.Credentials.from_service_account_file(\n",
    "'C:/a/big-query--cd85abb654f9.json',\n",
    ")"
   ]
  },
  {
   "cell_type": "code",
   "execution_count": 21,
   "id": "cea88b35",
   "metadata": {},
   "outputs": [],
   "source": [
    "def run_BigQuery_table(sql):\n",
    "    dotenv.load_dotenv()\n",
    "    credentials, project = google.auth.default(\n",
    "        scopes=[\n",
    "            \"https://www.googleapis.com/auth/cloud-platform\",\n",
    "            \"https://www.googleapis.com/auth/drive\",\n",
    "            \"https://www.googleapis.com/auth/bigquery\",\n",
    "        ]\n",
    "    )\n",
    "    pdgbq.context.credentials = credentials\n",
    "    bigquery.Client(project, credentials)\n",
    "    output = pd.read_gbq(sql, project_id=project, dialect='standard')\n",
    "    return output"
   ]
  },
  {
   "cell_type": "code",
   "execution_count": 16,
   "id": "f726b201",
   "metadata": {},
   "outputs": [
    {
     "name": "stdout",
     "output_type": "stream",
     "text": [
      "==== bytes = b'grass_date'\n"
     ]
    }
   ],
   "source": [
    "sql__my_bytes = \"\"\"\n",
    "select cast(string_field_0 as bytes) as mybytes\n",
    "from my_schema.external_table__date_table\n",
    "limit 1\n",
    "\n",
    "\"\"\"\n",
    "sql__my_bytes = \"\"\"\n",
    "select string_field_0 as mybytes\n",
    "from my_schema.external_table__date_table\n",
    "limit 1\n",
    "\"\"\"\n",
    "\n",
    "bq_output = run_BigQuery_table(sql__my_bytes)\n",
    "# mybytes =  bq_output.mybytes[0] \n",
    "mybytes = bytes( bq_output.mybytes[0] , 'utf-8')\n",
    "\n",
    "print(f\"==== bytes = {mybytes}\")"
   ]
  },
  {
   "cell_type": "code",
   "execution_count": 5,
   "id": "fd5f6959",
   "metadata": {},
   "outputs": [
    {
     "name": "stdout",
     "output_type": "stream",
     "text": [
      "==== key = grass_date\n"
     ]
    }
   ],
   "source": [
    "sql__my_key = \"\"\"\n",
    "select string_field_0 as mykey\n",
    "from my_schema.external_table__date_table\n",
    "limit 1\n",
    "\"\"\"\n",
    "\n",
    "bq_output = run_BigQuery_table(sql__my_key)\n",
    "mykey = bq_output.mykey[0]\n",
    "print(f\"==== key = {mykey}\")\n",
    "\n"
   ]
  },
  {
   "cell_type": "code",
   "execution_count": 22,
   "id": "cec2f27b",
   "metadata": {},
   "outputs": [
    {
     "data": {
      "text/html": [
       "<div>\n",
       "<style scoped>\n",
       "    .dataframe tbody tr th:only-of-type {\n",
       "        vertical-align: middle;\n",
       "    }\n",
       "\n",
       "    .dataframe tbody tr th {\n",
       "        vertical-align: top;\n",
       "    }\n",
       "\n",
       "    .dataframe thead th {\n",
       "        text-align: right;\n",
       "    }\n",
       "</style>\n",
       "<table border=\"1\" class=\"dataframe\">\n",
       "  <thead>\n",
       "    <tr style=\"text-align: right;\">\n",
       "      <th></th>\n",
       "      <th>kms_resource_name</th>\n",
       "      <th>first_level_keyset</th>\n",
       "      <th>second_level_keyset</th>\n",
       "    </tr>\n",
       "  </thead>\n",
       "  <tbody>\n",
       "    <tr>\n",
       "      <th>0</th>\n",
       "      <td>grass_date</td>\n",
       "      <td>b'grass_date'</td>\n",
       "      <td>None</td>\n",
       "    </tr>\n",
       "  </tbody>\n",
       "</table>\n",
       "</div>"
      ],
      "text/plain": [
       "  kms_resource_name first_level_keyset second_level_keyset\n",
       "0        grass_date      b'grass_date'                None"
      ]
     },
     "execution_count": 22,
     "metadata": {},
     "output_type": "execute_result"
    }
   ],
   "source": [
    "sql__decode = f\"\"\"\n",
    "SELECT ANS.FUNCTION( KEYS.KEYSET_CHAIN('{mykey}', {mybytes}), columns_name, \"\" )\n",
    "\"\"\"\n",
    "\n",
    "bq_output = run_BigQuery_table(sql__decode)\n",
    "\n",
    "data = pd.json_normalize( bq_output['f0_'][0] )\n",
    "\n",
    "data"
   ]
  },
  {
   "cell_type": "code",
   "execution_count": 99,
   "id": "0db1ccfd",
   "metadata": {},
   "outputs": [
    {
     "name": "stdout",
     "output_type": "stream",
     "text": [
      "==== before \n",
      " \n",
      "SELECT col1, col2, descrypt( col3), col4, descrypt(col5 ) , col6 , descrypt(col7)\n",
      "FROM ...\n",
      "\n",
      "\n",
      "\n",
      "\n",
      "==== after \n",
      " \n",
      "SELECT col1, col2, AEAD.DECRYPT_STRING( KEYS.KEYSET_CHAIN( 'testing_key' , testing_key)\n",
      "                                , from_base64(col3)\n",
      "                                , \"\" ) as decrypted_col3, col4, AEAD.DECRYPT_STRING( KEYS.KEYSET_CHAIN( 'testing_key' , testing_key)\n",
      "                                , from_base64(col5)\n",
      "                                , \"\" ) as decrypted_col5 , col6 , AEAD.DECRYPT_STRING( KEYS.KEYSET_CHAIN( 'testing_key' , testing_key)\n",
      "                                , from_base64(col7)\n",
      "                                , \"\" ) as decrypted_col7\n",
      "FROM ...\n",
      "\n"
     ]
    }
   ],
   "source": [
    "import re\n",
    "\n",
    "def replace_string(column_name, my_key, my_bytes):\n",
    "    replaced = f\"\"\"AEAD.DECRYPT_STRING( KEYS.KEYSET_CHAIN( '{my_key}' , {my_bytes})\n",
    "                                , from_base64({column_name})\n",
    "                                , \"\" ) as decrypted_{column_name}\"\"\"\n",
    "    return replaced\n",
    "\n",
    "def change_sql(your_sql):\n",
    "    string_need_to_replace = re.findall(f'{your_function}\\(.*?\\)', your_sql)\n",
    "    for before_replace in string_need_to_replace:\n",
    "        column_name = before_replace[before_replace.find(\"(\")+1:before_replace.rfind(\")\")].strip()\n",
    "        after_replace = replace_string(column_name, my_key, my_key)\n",
    "        your_sql = your_sql.replace(before_replace, after_replace)\n",
    "    return your_sql\n",
    "\n",
    "#####################################################\n",
    "\n",
    "\n",
    "your_sql = \"\"\" \n",
    "SELECT col1, col2, descrypt( col3), col4, descrypt(col5 ) , col6 , descrypt(col7)\n",
    "FROM ...\n",
    "\"\"\"\n",
    "print(f\"==== before \\n{your_sql}\")\n",
    "\n",
    "\n",
    "your_function = 'descrypt'\n",
    "my_key = 'testing_key'\n",
    "my_bytes = b'mybytes'\n",
    "\n",
    "print(\"\\n\\n\")\n",
    "\n",
    "print(f\"==== after \\n{change_sql(your_sql)}\")\n"
   ]
  }
 ],
 "metadata": {
  "kernelspec": {
   "display_name": "Python 3.9.13 64-bit",
   "language": "python",
   "name": "python3"
  },
  "language_info": {
   "codemirror_mode": {
    "name": "ipython",
    "version": 3
   },
   "file_extension": ".py",
   "mimetype": "text/x-python",
   "name": "python",
   "nbconvert_exporter": "python",
   "pygments_lexer": "ipython3",
   "version": "3.9.13"
  },
  "vscode": {
   "interpreter": {
    "hash": "11938c6bc6919ae2720b4d5011047913343b08a43b18698fd82dedb0d4417594"
   }
  }
 },
 "nbformat": 4,
 "nbformat_minor": 5
}
