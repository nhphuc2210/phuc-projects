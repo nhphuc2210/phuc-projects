{
 "cells": [
  {
   "cell_type": "code",
   "execution_count": 1,
   "id": "88adc4a2",
   "metadata": {},
   "outputs": [],
   "source": [
    "import pandas as pd\n",
    "import numpy as np\n",
    "import google_sheet as gs"
   ]
  },
  {
   "cell_type": "code",
   "execution_count": 2,
   "id": "ca56fbe9",
   "metadata": {},
   "outputs": [],
   "source": [
    "file_source = '1ufrmcMXjn5VAzhxiTDvTTk2dZZgBb8QOSEnFgtvAsys'\n",
    "# https://docs.google.com/spreadsheets/d/1ufrmcMXjn5VAzhxiTDvTTk2dZZgBb8QOSEnFgtvAsys/edit#gid=2087787807\n",
    "\n",
    "file_target = '1NRPKWDuVogIEyDB6D0vyHPluXFHz9WcC4qomnqk2SRg'\n",
    "# https://docs.google.com/spreadsheets/d/1NRPKWDuVogIEyDB6D0vyHPluXFHz9WcC4qomnqk2SRg/edit#gid=0\n"
   ]
  },
  {
   "cell_type": "code",
   "execution_count": null,
   "id": "d27852f3",
   "metadata": {},
   "outputs": [],
   "source": [
    "traffic_commitment = gs.get_data_from_gsheet(file_source, 'CBP Traffic Commitment', 1)\n",
    "get_columns = [item for item in list(traffic_commitment.columns) if item != '']\n",
    "traffic_commitment = traffic_commitment.loc[(traffic_commitment.is_remove != '1') & (traffic_commitment.shop_id != ''), get_columns]\n",
    "traffic_commitment\n"
   ]
  },
  {
   "cell_type": "code",
   "execution_count": null,
   "id": "cff42a5f",
   "metadata": {},
   "outputs": [],
   "source": [
    "column_pivot = list(traffic_commitment.columns[4:])\n",
    "\n",
    "unpivot = pd.melt(traffic_commitment, id_vars = ['shop_id','shop_name','package'], value_vars=column_pivot,\n",
    "       var_name='grass_month', value_name='traffic_commitment'\n",
    "       )\n",
    "\n",
    "unpivot['traffic_commitment_vnd'] = unpivot['traffic_commitment'].str.replace('$','', regex=True).str.replace(',','', regex=True)\n",
    "unpivot"
   ]
  },
  {
   "cell_type": "code",
   "execution_count": 20,
   "id": "7f209b43",
   "metadata": {},
   "outputs": [],
   "source": [
    "gs.delete_data(file_target,'traffic_commitment')\n",
    "gs.upload_gsheet(unpivot ,file_target, 'traffic_commitment')\n"
   ]
  }
 ],
 "metadata": {
  "kernelspec": {
   "display_name": "Python 3.9.0 64-bit",
   "language": "python",
   "name": "python3"
  },
  "language_info": {
   "codemirror_mode": {
    "name": "ipython",
    "version": 3
   },
   "file_extension": ".py",
   "mimetype": "text/x-python",
   "name": "python",
   "nbconvert_exporter": "python",
   "pygments_lexer": "ipython3",
   "version": "3.9.0"
  },
  "vscode": {
   "interpreter": {
    "hash": "aee8b7b246df8f9039afb4144a1f6fd8d2ca17a180786b69acc140d282b71a49"
   }
  }
 },
 "nbformat": 4,
 "nbformat_minor": 5
}
