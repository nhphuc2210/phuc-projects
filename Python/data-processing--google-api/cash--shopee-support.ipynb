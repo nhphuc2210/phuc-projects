{
 "cells": [
  {
   "cell_type": "code",
   "execution_count": 5,
   "id": "88adc4a2",
   "metadata": {},
   "outputs": [],
   "source": [
    "import pandas as pd\n",
    "import numpy as np\n",
    "import google_sheet as gs"
   ]
  },
  {
   "cell_type": "code",
   "execution_count": 6,
   "id": "ca56fbe9",
   "metadata": {},
   "outputs": [],
   "source": [
    "file_source = '1ufrmcMXjn5VAzhxiTDvTTk2dZZgBb8QOSEnFgtvAsys'\n",
    "# https://docs.google.com/spreadsheets/d/1ufrmcMXjn5VAzhxiTDvTTk2dZZgBb8QOSEnFgtvAsys/edit#gid=2087787807\n",
    "\n",
    "file_target = '1NRPKWDuVogIEyDB6D0vyHPluXFHz9WcC4qomnqk2SRg'\n",
    "# https://docs.google.com/spreadsheets/d/1NRPKWDuVogIEyDB6D0vyHPluXFHz9WcC4qomnqk2SRg/edit#gid=0\n"
   ]
  },
  {
   "cell_type": "code",
   "execution_count": null,
   "id": "d27852f3",
   "metadata": {},
   "outputs": [],
   "source": [
    "\n",
    "cash_data = gs.get_data_from_gsheet(file_source, 'Cash', 2)\n",
    "cash_data = cash_data.loc[cash_data.shop_id != 'ShopID', :]\n",
    "cash_data\n"
   ]
  },
  {
   "cell_type": "code",
   "execution_count": null,
   "id": "7f209b43",
   "metadata": {},
   "outputs": [],
   "source": [
    "col_pivot = list(cash_data.columns[1:])\n",
    "\n",
    "unpivot = pd.melt(cash_data, id_vars = ['shop_id'], value_vars=col_pivot,\n",
    "       var_name='grass_month', value_name='cash'\n",
    "       )\n",
    "# unpivot = unpivot.loc[unpivot['cash'] != '', :]\n",
    "# unpivot['grass_month'] = pd.to_datetime(unpivot['grass_month'])\n",
    "# unpivot['cash2'] = unpivot['cash'].astype(float)\n",
    "\n",
    "unpivot\n",
    "\n"
   ]
  },
  {
   "cell_type": "code",
   "execution_count": 9,
   "id": "315564d1",
   "metadata": {},
   "outputs": [],
   "source": [
    "gs.delete_data(file_target,'cash')\n",
    "gs.upload_gsheet(unpivot ,file_target, 'cash')\n"
   ]
  },
  {
   "cell_type": "markdown",
   "id": "566f8ea5",
   "metadata": {},
   "source": [
    "# Shopee Support"
   ]
  },
  {
   "cell_type": "code",
   "execution_count": null,
   "id": "628cd92a",
   "metadata": {},
   "outputs": [],
   "source": [
    "shopee_support_data = gs.get_data_from_gsheet(file_source, 'Shopee Support', 2)\n",
    "shopee_support_data = shopee_support_data.loc[~shopee_support_data.shop_id.isin(['ShopID','','Grand Total']), :]\n",
    "shopee_support_data"
   ]
  },
  {
   "cell_type": "code",
   "execution_count": null,
   "id": "509bccf9",
   "metadata": {},
   "outputs": [],
   "source": [
    "column_pivot = list(shopee_support_data.columns[1:])\n",
    "\n",
    "\n",
    "unpivot = pd.melt(shopee_support_data, id_vars = ['shop_id'], value_vars=column_pivot,\n",
    "       var_name='col', value_name='shopee_support'\n",
    "       )\n",
    "\n",
    "unpivot['shopee_support'] = unpivot['shopee_support'].str.replace('$','', regex=True).str.replace(',','', regex=True)\n",
    "\n",
    "unpivot\n",
    "\n",
    "df_2 = unpivot.col.str.split('_',expand=True)\n",
    "df_2.columns = ['channel', 'grass_month']\n",
    "\n",
    "final_df = pd.concat([unpivot.drop(columns=['col']), df_2], axis=1)\n",
    "\n",
    "upload_df = final_df[['shop_id','grass_month','channel','shopee_support']]\n",
    "upload_df"
   ]
  },
  {
   "cell_type": "code",
   "execution_count": 14,
   "id": "5ef4e7f6",
   "metadata": {},
   "outputs": [],
   "source": [
    "gs.delete_data(file_target,'shopee_support')\n",
    "gs.upload_gsheet(upload_df ,file_target, 'shopee_support')\n"
   ]
  }
 ],
 "metadata": {
  "kernelspec": {
   "display_name": "Python 3.9.0 64-bit",
   "language": "python",
   "name": "python3"
  },
  "language_info": {
   "codemirror_mode": {
    "name": "ipython",
    "version": 3
   },
   "file_extension": ".py",
   "mimetype": "text/x-python",
   "name": "python",
   "nbconvert_exporter": "python",
   "pygments_lexer": "ipython3",
   "version": "3.9.0"
  },
  "vscode": {
   "interpreter": {
    "hash": "aee8b7b246df8f9039afb4144a1f6fd8d2ca17a180786b69acc140d282b71a49"
   }
  }
 },
 "nbformat": 4,
 "nbformat_minor": 5
}
